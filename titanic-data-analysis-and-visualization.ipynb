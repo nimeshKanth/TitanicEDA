{
 "cells": [
  {
   "cell_type": "markdown",
   "metadata": {
    "papermill": {
     "duration": 0.031196,
     "end_time": "2021-01-04T08:31:57.793152",
     "exception": false,
     "start_time": "2021-01-04T08:31:57.761956",
     "status": "completed"
    },
    "tags": []
   },
   "source": [
    "<img src = 'https://encrypted-tbn0.gstatic.com/images?q=tbn:ANd9GcS5VYlABtmj_5Z9yHm7gxKr16wOmrQHudo6gQ&usqp=CAU' height='1940px' width='1200px' >"
   ]
  },
  {
   "cell_type": "markdown",
   "metadata": {
    "papermill": {
     "duration": 0.030063,
     "end_time": "2021-01-04T08:31:57.853143",
     "exception": false,
     "start_time": "2021-01-04T08:31:57.823080",
     "status": "completed"
    },
    "tags": []
   },
   "source": [
    "## Objective: Main aim of creating this notebook is to visualize data"
   ]
  },
  {
   "cell_type": "markdown",
   "metadata": {
    "papermill": {
     "duration": 0.030564,
     "end_time": "2021-01-04T08:31:57.913983",
     "exception": false,
     "start_time": "2021-01-04T08:31:57.883419",
     "status": "completed"
    },
    "tags": []
   },
   "source": [
    "## Import Necessary Libraries"
   ]
  },
  {
   "cell_type": "code",
   "execution_count": 1,
   "metadata": {
    "_cell_guid": "b1076dfc-b9ad-4769-8c92-a6c4dae69d19",
    "_uuid": "8f2839f25d086af736a60e9eeb907d3b93b6e0e5",
    "execution": {
     "iopub.execute_input": "2021-01-04T08:31:57.983001Z",
     "iopub.status.busy": "2021-01-04T08:31:57.982315Z",
     "iopub.status.idle": "2021-01-04T08:31:58.838203Z",
     "shell.execute_reply": "2021-01-04T08:31:58.837634Z"
    },
    "papermill": {
     "duration": 0.893495,
     "end_time": "2021-01-04T08:31:58.838337",
     "exception": false,
     "start_time": "2021-01-04T08:31:57.944842",
     "status": "completed"
    },
    "tags": []
   },
   "outputs": [
    {
     "name": "stdout",
     "output_type": "stream",
     "text": [
      "Panda: 1.1.5\n",
      "Numpy: 1.17.5\n",
      "Seaborn: 0.10.0\n"
     ]
    }
   ],
   "source": [
    "import pandas as pd\n",
    "import numpy as np\n",
    "import matplotlib.pyplot as plt\n",
    "import seaborn as sns\n",
    "\n",
    "# print version of libraries\n",
    "\n",
    "print(\"Panda:\",pd.__version__)\n",
    "print(\"Numpy:\",np.__version__)\n",
    "print(\"Seaborn:\",sns.__version__)"
   ]
  },
  {
   "cell_type": "markdown",
   "metadata": {
    "papermill": {
     "duration": 0.031284,
     "end_time": "2021-01-04T08:31:58.902690",
     "exception": false,
     "start_time": "2021-01-04T08:31:58.871406",
     "status": "completed"
    },
    "tags": []
   },
   "source": [
    "## Load data"
   ]
  },
  {
   "cell_type": "code",
   "execution_count": 2,
   "metadata": {
    "_cell_guid": "79c7e3d0-c299-4dcb-8224-4455121ee9b0",
    "_uuid": "d629ff2d2480ee46fbb7e2d37f6b5fab8052498a",
    "execution": {
     "iopub.execute_input": "2021-01-04T08:31:58.972110Z",
     "iopub.status.busy": "2021-01-04T08:31:58.971500Z",
     "iopub.status.idle": "2021-01-04T08:31:58.993116Z",
     "shell.execute_reply": "2021-01-04T08:31:58.992557Z"
    },
    "papermill": {
     "duration": 0.05926,
     "end_time": "2021-01-04T08:31:58.993219",
     "exception": false,
     "start_time": "2021-01-04T08:31:58.933959",
     "status": "completed"
    },
    "tags": []
   },
   "outputs": [],
   "source": [
    "train_data = pd.read_csv('../input/titanic/train.csv')\n",
    "test_data = pd.read_csv('../input/titanic/test.csv')"
   ]
  },
  {
   "cell_type": "code",
   "execution_count": 3,
   "metadata": {
    "execution": {
     "iopub.execute_input": "2021-01-04T08:31:59.116144Z",
     "iopub.status.busy": "2021-01-04T08:31:59.113338Z",
     "iopub.status.idle": "2021-01-04T08:31:59.144089Z",
     "shell.execute_reply": "2021-01-04T08:31:59.144759Z"
    },
    "papermill": {
     "duration": 0.120577,
     "end_time": "2021-01-04T08:31:59.144894",
     "exception": false,
     "start_time": "2021-01-04T08:31:59.024317",
     "status": "completed"
    },
    "tags": []
   },
   "outputs": [
    {
     "data": {
      "text/html": [
       "<div>\n",
       "<style scoped>\n",
       "    .dataframe tbody tr th:only-of-type {\n",
       "        vertical-align: middle;\n",
       "    }\n",
       "\n",
       "    .dataframe tbody tr th {\n",
       "        vertical-align: top;\n",
       "    }\n",
       "\n",
       "    .dataframe thead th {\n",
       "        text-align: right;\n",
       "    }\n",
       "</style>\n",
       "<table border=\"1\" class=\"dataframe\">\n",
       "  <thead>\n",
       "    <tr style=\"text-align: right;\">\n",
       "      <th></th>\n",
       "      <th>PassengerId</th>\n",
       "      <th>Survived</th>\n",
       "      <th>Pclass</th>\n",
       "      <th>Name</th>\n",
       "      <th>Sex</th>\n",
       "      <th>Age</th>\n",
       "      <th>SibSp</th>\n",
       "      <th>Parch</th>\n",
       "      <th>Ticket</th>\n",
       "      <th>Fare</th>\n",
       "      <th>Cabin</th>\n",
       "      <th>Embarked</th>\n",
       "    </tr>\n",
       "  </thead>\n",
       "  <tbody>\n",
       "    <tr>\n",
       "      <th>0</th>\n",
       "      <td>1</td>\n",
       "      <td>0</td>\n",
       "      <td>3</td>\n",
       "      <td>Braund, Mr. Owen Harris</td>\n",
       "      <td>male</td>\n",
       "      <td>22.0</td>\n",
       "      <td>1</td>\n",
       "      <td>0</td>\n",
       "      <td>A/5 21171</td>\n",
       "      <td>7.2500</td>\n",
       "      <td>NaN</td>\n",
       "      <td>S</td>\n",
       "    </tr>\n",
       "    <tr>\n",
       "      <th>1</th>\n",
       "      <td>2</td>\n",
       "      <td>1</td>\n",
       "      <td>1</td>\n",
       "      <td>Cumings, Mrs. John Bradley (Florence Briggs Th...</td>\n",
       "      <td>female</td>\n",
       "      <td>38.0</td>\n",
       "      <td>1</td>\n",
       "      <td>0</td>\n",
       "      <td>PC 17599</td>\n",
       "      <td>71.2833</td>\n",
       "      <td>C85</td>\n",
       "      <td>C</td>\n",
       "    </tr>\n",
       "    <tr>\n",
       "      <th>2</th>\n",
       "      <td>3</td>\n",
       "      <td>1</td>\n",
       "      <td>3</td>\n",
       "      <td>Heikkinen, Miss. Laina</td>\n",
       "      <td>female</td>\n",
       "      <td>26.0</td>\n",
       "      <td>0</td>\n",
       "      <td>0</td>\n",
       "      <td>STON/O2. 3101282</td>\n",
       "      <td>7.9250</td>\n",
       "      <td>NaN</td>\n",
       "      <td>S</td>\n",
       "    </tr>\n",
       "    <tr>\n",
       "      <th>3</th>\n",
       "      <td>4</td>\n",
       "      <td>1</td>\n",
       "      <td>1</td>\n",
       "      <td>Futrelle, Mrs. Jacques Heath (Lily May Peel)</td>\n",
       "      <td>female</td>\n",
       "      <td>35.0</td>\n",
       "      <td>1</td>\n",
       "      <td>0</td>\n",
       "      <td>113803</td>\n",
       "      <td>53.1000</td>\n",
       "      <td>C123</td>\n",
       "      <td>S</td>\n",
       "    </tr>\n",
       "    <tr>\n",
       "      <th>4</th>\n",
       "      <td>5</td>\n",
       "      <td>0</td>\n",
       "      <td>3</td>\n",
       "      <td>Allen, Mr. William Henry</td>\n",
       "      <td>male</td>\n",
       "      <td>35.0</td>\n",
       "      <td>0</td>\n",
       "      <td>0</td>\n",
       "      <td>373450</td>\n",
       "      <td>8.0500</td>\n",
       "      <td>NaN</td>\n",
       "      <td>S</td>\n",
       "    </tr>\n",
       "  </tbody>\n",
       "</table>\n",
       "</div>"
      ],
      "text/plain": [
       "   PassengerId  Survived  Pclass  \\\n",
       "0            1         0       3   \n",
       "1            2         1       1   \n",
       "2            3         1       3   \n",
       "3            4         1       1   \n",
       "4            5         0       3   \n",
       "\n",
       "                                                Name     Sex   Age  SibSp  \\\n",
       "0                            Braund, Mr. Owen Harris    male  22.0      1   \n",
       "1  Cumings, Mrs. John Bradley (Florence Briggs Th...  female  38.0      1   \n",
       "2                             Heikkinen, Miss. Laina  female  26.0      0   \n",
       "3       Futrelle, Mrs. Jacques Heath (Lily May Peel)  female  35.0      1   \n",
       "4                           Allen, Mr. William Henry    male  35.0      0   \n",
       "\n",
       "   Parch            Ticket     Fare Cabin Embarked  \n",
       "0      0         A/5 21171   7.2500   NaN        S  \n",
       "1      0          PC 17599  71.2833   C85        C  \n",
       "2      0  STON/O2. 3101282   7.9250   NaN        S  \n",
       "3      0            113803  53.1000  C123        S  \n",
       "4      0            373450   8.0500   NaN        S  "
      ]
     },
     "execution_count": 3,
     "metadata": {},
     "output_type": "execute_result"
    }
   ],
   "source": [
    "# let's see our data \n",
    "train_data.head()"
   ]
  },
  {
   "cell_type": "markdown",
   "metadata": {
    "papermill": {
     "duration": 0.031426,
     "end_time": "2021-01-04T08:31:59.208269",
     "exception": false,
     "start_time": "2021-01-04T08:31:59.176843",
     "status": "completed"
    },
    "tags": []
   },
   "source": [
    "### Understanding data\n",
    "Survival : 0 = No, 1 = Yes\n",
    "\n",
    "Pclass : A proxy for socio-economic status (SES) 1st = Upper 2nd = Middle 3rd = Lower\n",
    "\n",
    "sibsp : Number of siblings / spouses aboard the Titanic Sibling = brother, sister, stepbrother, stepsister \n",
    "Spouse = husband, wife (mistresses and fiancés were ignored)\n",
    "\n",
    "parch : The Number of parents / children aboard the Titanic Parent = mother, father Child = daughter, son, stepdaughter, stepson Some children travelled only with a nanny, therefore parch=0 for them.\n",
    "\n",
    "Ticket : Ticket number\n",
    "\n",
    "Fare : Passenger fare\n",
    "\n",
    "Cabin : Cabin number embarked\n",
    "\n",
    "Port of Embarkation: C = Cherbourg, Q = Queenstown, S = Southampton\n",
    "\n",
    "Name, Sex , Age are self-explanatory\n",
    "\n"
   ]
  },
  {
   "cell_type": "code",
   "execution_count": 4,
   "metadata": {
    "execution": {
     "iopub.execute_input": "2021-01-04T08:31:59.278611Z",
     "iopub.status.busy": "2021-01-04T08:31:59.277695Z",
     "iopub.status.idle": "2021-01-04T08:31:59.283347Z",
     "shell.execute_reply": "2021-01-04T08:31:59.282664Z"
    },
    "papermill": {
     "duration": 0.04266,
     "end_time": "2021-01-04T08:31:59.283469",
     "exception": false,
     "start_time": "2021-01-04T08:31:59.240809",
     "status": "completed"
    },
    "tags": []
   },
   "outputs": [
    {
     "name": "stdout",
     "output_type": "stream",
     "text": [
      "Total number of rows in training data: 891\n",
      "Total number of columns in training data: 12\n",
      "Total number of rows in test data: 418\n",
      "Total number of columns in test data: 11\n"
     ]
    }
   ],
   "source": [
    "# let's see total number of rows and columns in train data and test data\n",
    "print(\"Total number of rows in training data:\", train_data.shape[0])\n",
    "print(\"Total number of columns in training data:\", train_data.shape[1])\n",
    "print(\"Total number of rows in test data:\", test_data.shape[0])\n",
    "print(\"Total number of columns in test data:\", test_data.shape[1])"
   ]
  },
  {
   "cell_type": "code",
   "execution_count": 5,
   "metadata": {
    "execution": {
     "iopub.execute_input": "2021-01-04T08:31:59.352884Z",
     "iopub.status.busy": "2021-01-04T08:31:59.352028Z",
     "iopub.status.idle": "2021-01-04T08:31:59.364962Z",
     "shell.execute_reply": "2021-01-04T08:31:59.365714Z"
    },
    "papermill": {
     "duration": 0.050431,
     "end_time": "2021-01-04T08:31:59.365872",
     "exception": false,
     "start_time": "2021-01-04T08:31:59.315441",
     "status": "completed"
    },
    "tags": []
   },
   "outputs": [
    {
     "name": "stdout",
     "output_type": "stream",
     "text": [
      "<class 'pandas.core.frame.DataFrame'>\n",
      "RangeIndex: 891 entries, 0 to 890\n",
      "Data columns (total 12 columns):\n",
      " #   Column       Non-Null Count  Dtype  \n",
      "---  ------       --------------  -----  \n",
      " 0   PassengerId  891 non-null    int64  \n",
      " 1   Survived     891 non-null    int64  \n",
      " 2   Pclass       891 non-null    int64  \n",
      " 3   Name         891 non-null    object \n",
      " 4   Sex          891 non-null    object \n",
      " 5   Age          714 non-null    float64\n",
      " 6   SibSp        891 non-null    int64  \n",
      " 7   Parch        891 non-null    int64  \n",
      " 8   Ticket       891 non-null    object \n",
      " 9   Fare         891 non-null    float64\n",
      " 10  Cabin        204 non-null    object \n",
      " 11  Embarked     889 non-null    object \n",
      "dtypes: float64(2), int64(5), object(5)\n",
      "memory usage: 83.7+ KB\n"
     ]
    }
   ],
   "source": [
    "## Get information of train data\n",
    "train_data.info()"
   ]
  },
  {
   "cell_type": "code",
   "execution_count": 6,
   "metadata": {
    "execution": {
     "iopub.execute_input": "2021-01-04T08:31:59.443477Z",
     "iopub.status.busy": "2021-01-04T08:31:59.442797Z",
     "iopub.status.idle": "2021-01-04T08:31:59.446293Z",
     "shell.execute_reply": "2021-01-04T08:31:59.446977Z"
    },
    "papermill": {
     "duration": 0.047994,
     "end_time": "2021-01-04T08:31:59.447125",
     "exception": false,
     "start_time": "2021-01-04T08:31:59.399131",
     "status": "completed"
    },
    "tags": []
   },
   "outputs": [
    {
     "name": "stdout",
     "output_type": "stream",
     "text": [
      "<class 'pandas.core.frame.DataFrame'>\n",
      "RangeIndex: 418 entries, 0 to 417\n",
      "Data columns (total 11 columns):\n",
      " #   Column       Non-Null Count  Dtype  \n",
      "---  ------       --------------  -----  \n",
      " 0   PassengerId  418 non-null    int64  \n",
      " 1   Pclass       418 non-null    int64  \n",
      " 2   Name         418 non-null    object \n",
      " 3   Sex          418 non-null    object \n",
      " 4   Age          332 non-null    float64\n",
      " 5   SibSp        418 non-null    int64  \n",
      " 6   Parch        418 non-null    int64  \n",
      " 7   Ticket       418 non-null    object \n",
      " 8   Fare         417 non-null    float64\n",
      " 9   Cabin        91 non-null     object \n",
      " 10  Embarked     418 non-null    object \n",
      "dtypes: float64(2), int64(4), object(5)\n",
      "memory usage: 36.0+ KB\n"
     ]
    }
   ],
   "source": [
    "# get information of test_data\n",
    "test_data.info()"
   ]
  },
  {
   "cell_type": "code",
   "execution_count": 7,
   "metadata": {
    "execution": {
     "iopub.execute_input": "2021-01-04T08:31:59.520608Z",
     "iopub.status.busy": "2021-01-04T08:31:59.519811Z",
     "iopub.status.idle": "2021-01-04T08:31:59.523564Z",
     "shell.execute_reply": "2021-01-04T08:31:59.523111Z"
    },
    "papermill": {
     "duration": 0.042713,
     "end_time": "2021-01-04T08:31:59.523657",
     "exception": false,
     "start_time": "2021-01-04T08:31:59.480944",
     "status": "completed"
    },
    "tags": []
   },
   "outputs": [
    {
     "data": {
      "text/plain": [
       "PassengerId      0\n",
       "Pclass           0\n",
       "Name             0\n",
       "Sex              0\n",
       "Age             86\n",
       "SibSp            0\n",
       "Parch            0\n",
       "Ticket           0\n",
       "Fare             1\n",
       "Cabin          327\n",
       "Embarked         0\n",
       "dtype: int64"
      ]
     },
     "execution_count": 7,
     "metadata": {},
     "output_type": "execute_result"
    }
   ],
   "source": [
    "# checking for null values in test_data\n",
    "test_data.isna().sum()"
   ]
  },
  {
   "cell_type": "code",
   "execution_count": 8,
   "metadata": {
    "execution": {
     "iopub.execute_input": "2021-01-04T08:31:59.597567Z",
     "iopub.status.busy": "2021-01-04T08:31:59.596660Z",
     "iopub.status.idle": "2021-01-04T08:31:59.603176Z",
     "shell.execute_reply": "2021-01-04T08:31:59.602521Z"
    },
    "papermill": {
     "duration": 0.045728,
     "end_time": "2021-01-04T08:31:59.603272",
     "exception": false,
     "start_time": "2021-01-04T08:31:59.557544",
     "status": "completed"
    },
    "tags": []
   },
   "outputs": [
    {
     "data": {
      "text/plain": [
       "PassengerId      0\n",
       "Survived         0\n",
       "Pclass           0\n",
       "Name             0\n",
       "Sex              0\n",
       "Age            177\n",
       "SibSp            0\n",
       "Parch            0\n",
       "Ticket           0\n",
       "Fare             0\n",
       "Cabin          687\n",
       "Embarked         2\n",
       "dtype: int64"
      ]
     },
     "execution_count": 8,
     "metadata": {},
     "output_type": "execute_result"
    }
   ],
   "source": [
    "# checking for null values in train_data\n",
    "train_data.isna().sum()"
   ]
  },
  {
   "cell_type": "markdown",
   "metadata": {
    "papermill": {
     "duration": 0.042849,
     "end_time": "2021-01-04T08:31:59.681192",
     "exception": false,
     "start_time": "2021-01-04T08:31:59.638343",
     "status": "completed"
    },
    "tags": []
   },
   "source": [
    "# Data Visualization "
   ]
  },
  {
   "cell_type": "code",
   "execution_count": 9,
   "metadata": {
    "execution": {
     "iopub.execute_input": "2021-01-04T08:31:59.758259Z",
     "iopub.status.busy": "2021-01-04T08:31:59.757495Z",
     "iopub.status.idle": "2021-01-04T08:32:00.148767Z",
     "shell.execute_reply": "2021-01-04T08:32:00.149334Z"
    },
    "papermill": {
     "duration": 0.433087,
     "end_time": "2021-01-04T08:32:00.149471",
     "exception": false,
     "start_time": "2021-01-04T08:31:59.716384",
     "status": "completed"
    },
    "tags": []
   },
   "outputs": [
    {
     "data": {
      "image/png": "[encoded data removed]",
      "text/plain": [
       "<Figure size 432x288 with 2 Axes>"
      ]
     },
     "metadata": {
      "needs_background": "light"
     },
     "output_type": "display_data"
    }
   ],
   "source": [
    "# train data\n",
    "sns.heatmap(train_data.isna())\n",
    "plt.show()"
   ]
  },
  {
   "cell_type": "code",
   "execution_count": 10,
   "metadata": {
    "execution": {
     "iopub.execute_input": "2021-01-04T08:32:00.240345Z",
     "iopub.status.busy": "2021-01-04T08:32:00.239285Z",
     "iopub.status.idle": "2021-01-04T08:32:00.390426Z",
     "shell.execute_reply": "2021-01-04T08:32:00.390961Z"
    },
    "papermill": {
     "duration": 0.202725,
     "end_time": "2021-01-04T08:32:00.391122",
     "exception": false,
     "start_time": "2021-01-04T08:32:00.188397",
     "status": "completed"
    },
    "tags": []
   },
   "outputs": [
    {
     "data": {
      "image/png": "[encoded data removed]",
      "text/plain": [
       "<Figure size 1080x360 with 1 Axes>"
      ]
     },
     "metadata": {
      "needs_background": "light"
     },
     "output_type": "display_data"
    }
   ],
   "source": [
    "# visualizing null value is train data\n",
    "plt.figure(figsize = (15,5))\n",
    "plt.plot(train_data.columns, train_data.isna().sum())\n",
    "plt.show()"
   ]
  },
  {
   "cell_type": "code",
   "execution_count": 11,
   "metadata": {
    "execution": {
     "iopub.execute_input": "2021-01-04T08:32:00.478864Z",
     "iopub.status.busy": "2021-01-04T08:32:00.477985Z",
     "iopub.status.idle": "2021-01-04T08:32:00.642258Z",
     "shell.execute_reply": "2021-01-04T08:32:00.642795Z"
    },
    "papermill": {
     "duration": 0.212614,
     "end_time": "2021-01-04T08:32:00.642928",
     "exception": false,
     "start_time": "2021-01-04T08:32:00.430314",
     "status": "completed"
    },
    "tags": []
   },
   "outputs": [
    {
     "data": {
      "image/png": "[encoded data removed]",
      "text/plain": [
       "<Figure size 1080x360 with 1 Axes>"
      ]
     },
     "metadata": {
      "needs_background": "light"
     },
     "output_type": "display_data"
    }
   ],
   "source": [
    "# visualizing null value is train data\n",
    "plt.figure(figsize = (15,5))\n",
    "plt.bar(train_data.columns, train_data.isna().sum())\n",
    "plt.show()"
   ]
  },
  {
   "cell_type": "code",
   "execution_count": 12,
   "metadata": {
    "execution": {
     "iopub.execute_input": "2021-01-04T08:32:00.734374Z",
     "iopub.status.busy": "2021-01-04T08:32:00.733460Z",
     "iopub.status.idle": "2021-01-04T08:32:00.883927Z",
     "shell.execute_reply": "2021-01-04T08:32:00.884391Z"
    },
    "papermill": {
     "duration": 0.201339,
     "end_time": "2021-01-04T08:32:00.884511",
     "exception": false,
     "start_time": "2021-01-04T08:32:00.683172",
     "status": "completed"
    },
    "tags": []
   },
   "outputs": [
    {
     "data": {
      "image/png": "[encoded data removed]",
      "text/plain": [
       "<Figure size 1080x360 with 1 Axes>"
      ]
     },
     "metadata": {
      "needs_background": "light"
     },
     "output_type": "display_data"
    }
   ],
   "source": [
    "# visualizing null value is test data\n",
    "plt.figure(figsize = (15,5))\n",
    "plt.bar(test_data.columns, test_data.isna().sum(), color = 'green')\n",
    "plt.show()\n",
    "## we can see "
   ]
  },
  {
   "cell_type": "code",
   "execution_count": 13,
   "metadata": {
    "execution": {
     "iopub.execute_input": "2021-01-04T08:32:00.969955Z",
     "iopub.status.busy": "2021-01-04T08:32:00.969071Z",
     "iopub.status.idle": "2021-01-04T08:32:01.214145Z",
     "shell.execute_reply": "2021-01-04T08:32:01.215375Z"
    },
    "papermill": {
     "duration": 0.290776,
     "end_time": "2021-01-04T08:32:01.215565",
     "exception": false,
     "start_time": "2021-01-04T08:32:00.924789",
     "status": "completed"
    },
    "tags": []
   },
   "outputs": [
    {
     "data": {
      "image/png": "[encoded data removed]",
      "text/plain": [
       "<Figure size 432x288 with 1 Axes>"
      ]
     },
     "metadata": {
      "needs_background": "light"
     },
     "output_type": "display_data"
    }
   ],
   "source": [
    "#Visualizing the Number of survived passenger\n",
    "sns.countplot('Survived', data = train_data)\n",
    "plt.show()\n",
    "# here we plot only for train_data as we donot have Survived column for test data,\n",
    "# This plot show that around 600 people died and around 300 survived"
   ]
  },
  {
   "cell_type": "code",
   "execution_count": 14,
   "metadata": {
    "execution": {
     "iopub.execute_input": "2021-01-04T08:32:01.355869Z",
     "iopub.status.busy": "2021-01-04T08:32:01.354904Z",
     "iopub.status.idle": "2021-01-04T08:32:01.511309Z",
     "shell.execute_reply": "2021-01-04T08:32:01.512485Z"
    },
    "papermill": {
     "duration": 0.233882,
     "end_time": "2021-01-04T08:32:01.512685",
     "exception": false,
     "start_time": "2021-01-04T08:32:01.278803",
     "status": "completed"
    },
    "tags": []
   },
   "outputs": [
    {
     "data": {
      "image/png": "[encoded data removed]",
      "text/plain": [
       "<Figure size 432x288 with 1 Axes>"
      ]
     },
     "metadata": {
      "needs_background": "light"
     },
     "output_type": "display_data"
    }
   ],
   "source": [
    "# visualizing the number of passenger from different embarked column in test_data\n",
    "sns.countplot('Embarked', data = test_data)\n",
    "plt.show()"
   ]
  },
  {
   "cell_type": "code",
   "execution_count": 15,
   "metadata": {
    "execution": {
     "iopub.execute_input": "2021-01-04T08:32:01.645713Z",
     "iopub.status.busy": "2021-01-04T08:32:01.644850Z",
     "iopub.status.idle": "2021-01-04T08:32:01.806002Z",
     "shell.execute_reply": "2021-01-04T08:32:01.807115Z"
    },
    "papermill": {
     "duration": 0.232529,
     "end_time": "2021-01-04T08:32:01.807333",
     "exception": false,
     "start_time": "2021-01-04T08:32:01.574804",
     "status": "completed"
    },
    "tags": []
   },
   "outputs": [
    {
     "data": {
      "image/png": "[encoded data removed]",
      "text/plain": [
       "<Figure size 432x288 with 1 Axes>"
      ]
     },
     "metadata": {
      "needs_background": "light"
     },
     "output_type": "display_data"
    }
   ],
   "source": [
    "# visualizing the number of passenger from different embarked column in train_data\n",
    "sns.countplot('Embarked', data = train_data)\n",
    "plt.show()"
   ]
  },
  {
   "cell_type": "code",
   "execution_count": 16,
   "metadata": {
    "execution": {
     "iopub.execute_input": "2021-01-04T08:32:01.908435Z",
     "iopub.status.busy": "2021-01-04T08:32:01.905125Z",
     "iopub.status.idle": "2021-01-04T08:32:02.013204Z",
     "shell.execute_reply": "2021-01-04T08:32:02.013793Z"
    },
    "papermill": {
     "duration": 0.157752,
     "end_time": "2021-01-04T08:32:02.013940",
     "exception": false,
     "start_time": "2021-01-04T08:32:01.856188",
     "status": "completed"
    },
    "tags": []
   },
   "outputs": [
    {
     "data": {
      "image/png": "[encoded data removed]",
      "text/plain": [
       "<Figure size 432x288 with 1 Axes>"
      ]
     },
     "metadata": {
      "needs_background": "light"
     },
     "output_type": "display_data"
    }
   ],
   "source": [
    "# visualizing number of passenger of each gender in test data\n",
    "sns.countplot(test_data['Sex'])\n",
    "plt.show()\n",
    "# there were more male passenger"
   ]
  },
  {
   "cell_type": "code",
   "execution_count": 17,
   "metadata": {
    "execution": {
     "iopub.execute_input": "2021-01-04T08:32:02.115073Z",
     "iopub.status.busy": "2021-01-04T08:32:02.114028Z",
     "iopub.status.idle": "2021-01-04T08:32:02.225044Z",
     "shell.execute_reply": "2021-01-04T08:32:02.225616Z"
    },
    "papermill": {
     "duration": 0.162526,
     "end_time": "2021-01-04T08:32:02.225782",
     "exception": false,
     "start_time": "2021-01-04T08:32:02.063256",
     "status": "completed"
    },
    "tags": []
   },
   "outputs": [
    {
     "data": {
      "image/png": "[encoded data removed]",
      "text/plain": [
       "<Figure size 432x288 with 1 Axes>"
      ]
     },
     "metadata": {
      "needs_background": "light"
     },
     "output_type": "display_data"
    }
   ],
   "source": [
    "# visualizing number of passenger of each gender in train data\n",
    "sns.countplot(train_data['Sex'])\n",
    "plt.show()\n",
    "# there were more male passenger"
   ]
  },
  {
   "cell_type": "code",
   "execution_count": 18,
   "metadata": {
    "execution": {
     "iopub.execute_input": "2021-01-04T08:32:02.325444Z",
     "iopub.status.busy": "2021-01-04T08:32:02.323406Z",
     "iopub.status.idle": "2021-01-04T08:32:02.461224Z",
     "shell.execute_reply": "2021-01-04T08:32:02.461879Z"
    },
    "papermill": {
     "duration": 0.187494,
     "end_time": "2021-01-04T08:32:02.462038",
     "exception": false,
     "start_time": "2021-01-04T08:32:02.274544",
     "status": "completed"
    },
    "tags": []
   },
   "outputs": [
    {
     "data": {
      "image/png": "[encoded data removed]",
      "text/plain": [
       "<Figure size 432x288 with 1 Axes>"
      ]
     },
     "metadata": {
      "needs_background": "light"
     },
     "output_type": "display_data"
    }
   ],
   "source": [
    "sns.countplot(train_data['Survived'],data = train_data,hue = 'Sex') \n",
    "plt.show()\n",
    "# here we can see that more female have survied than males"
   ]
  },
  {
   "cell_type": "code",
   "execution_count": 19,
   "metadata": {
    "execution": {
     "iopub.execute_input": "2021-01-04T08:32:02.580988Z",
     "iopub.status.busy": "2021-01-04T08:32:02.579696Z",
     "iopub.status.idle": "2021-01-04T08:32:02.788983Z",
     "shell.execute_reply": "2021-01-04T08:32:02.788451Z"
    },
    "papermill": {
     "duration": 0.270376,
     "end_time": "2021-01-04T08:32:02.789094",
     "exception": false,
     "start_time": "2021-01-04T08:32:02.518718",
     "status": "completed"
    },
    "tags": []
   },
   "outputs": [
    {
     "data": {
      "image/png": "[encoded data removed]",
      "text/plain": [
       "<Figure size 432x288 with 1 Axes>"
      ]
     },
     "metadata": {
      "needs_background": "light"
     },
     "output_type": "display_data"
    }
   ],
   "source": [
    "# visualizing survival rate for both gender\n",
    "sns.barplot(x='Sex',y='Survived',data = train_data) \n",
    "plt.show()\n",
    "# we can see that around survival rate for female is around 74 %"
   ]
  },
  {
   "cell_type": "code",
   "execution_count": 20,
   "metadata": {
    "execution": {
     "iopub.execute_input": "2021-01-04T08:32:02.896594Z",
     "iopub.status.busy": "2021-01-04T08:32:02.895608Z",
     "iopub.status.idle": "2021-01-04T08:32:03.069007Z",
     "shell.execute_reply": "2021-01-04T08:32:03.067696Z"
    },
    "papermill": {
     "duration": 0.230649,
     "end_time": "2021-01-04T08:32:03.069137",
     "exception": false,
     "start_time": "2021-01-04T08:32:02.838488",
     "status": "completed"
    },
    "tags": []
   },
   "outputs": [
    {
     "data": {
      "image/png": "[encoded data removed]",
      "text/plain": [
       "<Figure size 432x288 with 1 Axes>"
      ]
     },
     "metadata": {
      "needs_background": "light"
     },
     "output_type": "display_data"
    }
   ],
   "source": [
    "# visualizing number of survived passenger for each embarked column in train data\n",
    "sns.countplot('Embarked', data = train_data, hue = 'Survived')\n",
    "plt.show()"
   ]
  },
  {
   "cell_type": "code",
   "execution_count": 21,
   "metadata": {
    "execution": {
     "iopub.execute_input": "2021-01-04T08:32:03.256082Z",
     "iopub.status.busy": "2021-01-04T08:32:03.255117Z",
     "iopub.status.idle": "2021-01-04T08:32:03.629073Z",
     "shell.execute_reply": "2021-01-04T08:32:03.630074Z"
    },
    "papermill": {
     "duration": 0.481714,
     "end_time": "2021-01-04T08:32:03.630272",
     "exception": false,
     "start_time": "2021-01-04T08:32:03.148558",
     "status": "completed"
    },
    "tags": []
   },
   "outputs": [
    {
     "data": {
      "image/png": "[encoded data removed]",
      "text/plain": [
       "<Figure size 432x288 with 1 Axes>"
      ]
     },
     "metadata": {
      "needs_background": "light"
     },
     "output_type": "display_data"
    }
   ],
   "source": [
    "# visualizing number of survival rate of passenger for each embarked column in train data\n",
    "sns.barplot(x = 'Embarked', data = train_data, y= 'Survived')\n",
    "plt.show()\n",
    "# we can see that survival rate is high for C"
   ]
  },
  {
   "cell_type": "code",
   "execution_count": 22,
   "metadata": {
    "execution": {
     "iopub.execute_input": "2021-01-04T08:32:03.794547Z",
     "iopub.status.busy": "2021-01-04T08:32:03.793742Z",
     "iopub.status.idle": "2021-01-04T08:32:04.342751Z",
     "shell.execute_reply": "2021-01-04T08:32:04.344062Z"
    },
    "papermill": {
     "duration": 0.640303,
     "end_time": "2021-01-04T08:32:04.344275",
     "exception": false,
     "start_time": "2021-01-04T08:32:03.703972",
     "status": "completed"
    },
    "tags": []
   },
   "outputs": [
    {
     "data": {
      "image/png": "[encoded data removed]",
      "text/plain": [
       "<Figure size 432x288 with 1 Axes>"
      ]
     },
     "metadata": {
      "needs_background": "light"
     },
     "output_type": "display_data"
    }
   ],
   "source": [
    "#checking the genderwise survival rate in each Class for better understanding of our data\n",
    "sns.barplot(x='Pclass',y='Survived',hue = 'Sex',data = train_data) \n",
    "plt.show()"
   ]
  },
  {
   "cell_type": "code",
   "execution_count": 23,
   "metadata": {
    "execution": {
     "iopub.execute_input": "2021-01-04T08:32:04.488859Z",
     "iopub.status.busy": "2021-01-04T08:32:04.487841Z",
     "iopub.status.idle": "2021-01-04T08:32:04.658711Z",
     "shell.execute_reply": "2021-01-04T08:32:04.659278Z"
    },
    "papermill": {
     "duration": 0.225905,
     "end_time": "2021-01-04T08:32:04.659419",
     "exception": false,
     "start_time": "2021-01-04T08:32:04.433514",
     "status": "completed"
    },
    "tags": []
   },
   "outputs": [
    {
     "data": {
      "image/png": "[encoded data removed]",
      "text/plain": [
       "<Figure size 432x288 with 1 Axes>"
      ]
     },
     "metadata": {
      "needs_background": "light"
     },
     "output_type": "display_data"
    }
   ],
   "source": [
    "sns.countplot(x='Embarked',hue = 'Pclass',data = test_data)\n",
    "plt.show()\n",
    "# visualizing countplot of different class for each embarked column in test data"
   ]
  },
  {
   "cell_type": "code",
   "execution_count": 24,
   "metadata": {
    "execution": {
     "iopub.execute_input": "2021-01-04T08:32:04.773407Z",
     "iopub.status.busy": "2021-01-04T08:32:04.772090Z",
     "iopub.status.idle": "2021-01-04T08:32:04.937823Z",
     "shell.execute_reply": "2021-01-04T08:32:04.938404Z"
    },
    "papermill": {
     "duration": 0.224693,
     "end_time": "2021-01-04T08:32:04.938546",
     "exception": false,
     "start_time": "2021-01-04T08:32:04.713853",
     "status": "completed"
    },
    "tags": []
   },
   "outputs": [
    {
     "data": {
      "image/png": "[encoded data removed]",
      "text/plain": [
       "<Figure size 432x288 with 1 Axes>"
      ]
     },
     "metadata": {
      "needs_background": "light"
     },
     "output_type": "display_data"
    }
   ],
   "source": [
    "sns.countplot(x='Embarked',hue = 'Pclass',data = train_data)\n",
    "plt.show()\n",
    "# visualizing countplot of different class for each embarked column in train data"
   ]
  },
  {
   "cell_type": "code",
   "execution_count": 25,
   "metadata": {
    "execution": {
     "iopub.execute_input": "2021-01-04T08:32:05.051102Z",
     "iopub.status.busy": "2021-01-04T08:32:05.050022Z",
     "iopub.status.idle": "2021-01-04T08:32:05.187493Z",
     "shell.execute_reply": "2021-01-04T08:32:05.193539Z"
    },
    "papermill": {
     "duration": 0.203248,
     "end_time": "2021-01-04T08:32:05.193717",
     "exception": false,
     "start_time": "2021-01-04T08:32:04.990469",
     "status": "completed"
    },
    "tags": []
   },
   "outputs": [
    {
     "data": {
      "image/png": "[encoded data removed]",
      "text/plain": [
       "<Figure size 432x288 with 1 Axes>"
      ]
     },
     "metadata": {
      "needs_background": "light"
     },
     "output_type": "display_data"
    }
   ],
   "source": [
    "# let's see the number of passenger for each class in train data\n",
    "sns.countplot('Pclass', data = train_data)\n",
    "plt.show()"
   ]
  },
  {
   "cell_type": "code",
   "execution_count": 26,
   "metadata": {
    "execution": {
     "iopub.execute_input": "2021-01-04T08:32:05.311589Z",
     "iopub.status.busy": "2021-01-04T08:32:05.306558Z",
     "iopub.status.idle": "2021-01-04T08:32:05.401703Z",
     "shell.execute_reply": "2021-01-04T08:32:05.402347Z"
    },
    "papermill": {
     "duration": 0.157782,
     "end_time": "2021-01-04T08:32:05.402496",
     "exception": false,
     "start_time": "2021-01-04T08:32:05.244714",
     "status": "completed"
    },
    "tags": []
   },
   "outputs": [
    {
     "data": {
      "image/png": "[encoded data removed]",
      "text/plain": [
       "<Figure size 432x288 with 1 Axes>"
      ]
     },
     "metadata": {
      "needs_background": "light"
     },
     "output_type": "display_data"
    }
   ],
   "source": [
    "# let's see the number of passenger for each class in test_data\n",
    "sns.countplot('Pclass', data = test_data)\n",
    "plt.show()"
   ]
  },
  {
   "cell_type": "code",
   "execution_count": 27,
   "metadata": {
    "execution": {
     "iopub.execute_input": "2021-01-04T08:32:05.517014Z",
     "iopub.status.busy": "2021-01-04T08:32:05.515995Z",
     "iopub.status.idle": "2021-01-04T08:32:05.655835Z",
     "shell.execute_reply": "2021-01-04T08:32:05.656358Z"
    },
    "papermill": {
     "duration": 0.200415,
     "end_time": "2021-01-04T08:32:05.656481",
     "exception": false,
     "start_time": "2021-01-04T08:32:05.456066",
     "status": "completed"
    },
    "tags": []
   },
   "outputs": [
    {
     "data": {
      "image/png": "[encoded data removed]",
      "text/plain": [
       "<Figure size 432x288 with 1 Axes>"
      ]
     },
     "metadata": {
      "needs_background": "light"
     },
     "output_type": "display_data"
    }
   ],
   "source": [
    "# let's see the number of passenger that surived for each class\n",
    "sns.countplot(\"Pclass\", hue = 'Survived', data = train_data)\n",
    "plt.show()\n",
    "# around 400 passenger died from pclass 3"
   ]
  },
  {
   "cell_type": "code",
   "execution_count": 28,
   "metadata": {
    "execution": {
     "iopub.execute_input": "2021-01-04T08:32:05.777174Z",
     "iopub.status.busy": "2021-01-04T08:32:05.775037Z",
     "iopub.status.idle": "2021-01-04T08:32:05.918039Z",
     "shell.execute_reply": "2021-01-04T08:32:05.918545Z"
    },
    "papermill": {
     "duration": 0.208617,
     "end_time": "2021-01-04T08:32:05.918695",
     "exception": false,
     "start_time": "2021-01-04T08:32:05.710078",
     "status": "completed"
    },
    "tags": []
   },
   "outputs": [
    {
     "data": {
      "text/plain": [
       "(array([388.,  21.,   7.,   1.]),\n",
       " array([  0.    , 128.0823, 256.1646, 384.2469, 512.3292]),\n",
       " <a list of 4 Patch objects>)"
      ]
     },
     "execution_count": 28,
     "metadata": {},
     "output_type": "execute_result"
    },
    {
     "data": {
      "image/png": "[encoded data removed]",
      "text/plain": [
       "<Figure size 432x288 with 1 Axes>"
      ]
     },
     "metadata": {
      "needs_background": "light"
     },
     "output_type": "display_data"
    }
   ],
   "source": [
    "bins = np.linspace(test_data.Fare.min(),test_data.Fare.max(),5)\n",
    "plt.hist(test_data.Fare, bins = bins, color = 'pink')\n",
    "# here we can see that very few passenger pay more than 100 for fare in test data"
   ]
  },
  {
   "cell_type": "code",
   "execution_count": 29,
   "metadata": {
    "execution": {
     "iopub.execute_input": "2021-01-04T08:32:06.036199Z",
     "iopub.status.busy": "2021-01-04T08:32:06.029840Z",
     "iopub.status.idle": "2021-01-04T08:32:06.316524Z",
     "shell.execute_reply": "2021-01-04T08:32:06.316993Z"
    },
    "papermill": {
     "duration": 0.345634,
     "end_time": "2021-01-04T08:32:06.317136",
     "exception": false,
     "start_time": "2021-01-04T08:32:05.971502",
     "status": "completed"
    },
    "tags": []
   },
   "outputs": [
    {
     "data": {
      "text/plain": [
       "(array([853.,  29.,   6.,   3.]),\n",
       " array([  0.    , 128.0823, 256.1646, 384.2469, 512.3292]),\n",
       " <a list of 4 Patch objects>)"
      ]
     },
     "execution_count": 29,
     "metadata": {},
     "output_type": "execute_result"
    },
    {
     "data": {
      "image/png": "[encoded data removed]",
      "text/plain": [
       "<Figure size 432x288 with 1 Axes>"
      ]
     },
     "metadata": {
      "needs_background": "light"
     },
     "output_type": "display_data"
    }
   ],
   "source": [
    "bins = np.linspace(train_data.Fare.min(),train_data.Fare.max(),5)\n",
    "plt.hist(train_data.Fare, bins = bins, color = 'maroon')\n",
    "# here we can see that very few passenger pay more than 100 for fare in train data"
   ]
  },
  {
   "cell_type": "code",
   "execution_count": 30,
   "metadata": {
    "execution": {
     "iopub.execute_input": "2021-01-04T08:32:06.442116Z",
     "iopub.status.busy": "2021-01-04T08:32:06.440674Z",
     "iopub.status.idle": "2021-01-04T08:32:06.621029Z",
     "shell.execute_reply": "2021-01-04T08:32:06.621533Z"
    },
    "papermill": {
     "duration": 0.249449,
     "end_time": "2021-01-04T08:32:06.621660",
     "exception": false,
     "start_time": "2021-01-04T08:32:06.372211",
     "status": "completed"
    },
    "tags": []
   },
   "outputs": [
    {
     "data": {
      "text/plain": [
       "Text(0, 0.5, 'Number of People')"
      ]
     },
     "execution_count": 30,
     "metadata": {},
     "output_type": "execute_result"
    },
    {
     "data": {
      "image/png": "[encoded data removed]",
      "text/plain": [
       "<Figure size 720x288 with 1 Axes>"
      ]
     },
     "metadata": {
      "needs_background": "light"
     },
     "output_type": "display_data"
    }
   ],
   "source": [
    "plt.figure(figsize = (10,4))\n",
    "bins = np.linspace(test_data.Age.min(), test_data.Age.max(),15)\n",
    "plt.title(\"Age\")\n",
    "plt.hist(test_data.Age, bins= bins, color = 'pink')\n",
    "plt.xlabel(\"Age\")\n",
    "plt.ylabel(\"Number of People\")\n",
    "# this shows that lots of peope were in range 20-50 years in test data"
   ]
  },
  {
   "cell_type": "code",
   "execution_count": 31,
   "metadata": {
    "execution": {
     "iopub.execute_input": "2021-01-04T08:32:06.750336Z",
     "iopub.status.busy": "2021-01-04T08:32:06.749049Z",
     "iopub.status.idle": "2021-01-04T08:32:06.932325Z",
     "shell.execute_reply": "2021-01-04T08:32:06.932918Z"
    },
    "papermill": {
     "duration": 0.249483,
     "end_time": "2021-01-04T08:32:06.933073",
     "exception": false,
     "start_time": "2021-01-04T08:32:06.683590",
     "status": "completed"
    },
    "tags": []
   },
   "outputs": [
    {
     "data": {
      "text/plain": [
       "Text(0, 0.5, 'Number of People')"
      ]
     },
     "execution_count": 31,
     "metadata": {},
     "output_type": "execute_result"
    },
    {
     "data": {
      "image/png": "[encoded data removed]",
      "text/plain": [
       "<Figure size 720x288 with 1 Axes>"
      ]
     },
     "metadata": {
      "needs_background": "light"
     },
     "output_type": "display_data"
    }
   ],
   "source": [
    "plt.figure(figsize = (10,4))\n",
    "bins = np.linspace(train_data.Age.min(), train_data.Age.max(),15)\n",
    "plt.title(\"Age\")\n",
    "plt.hist(train_data.Age, bins= bins, color = 'maroon')\n",
    "plt.xlabel(\"Age\")\n",
    "plt.ylabel(\"Number of People\")\n",
    "# this shows that lots of peope were in range 20-50 years in train data"
   ]
  },
  {
   "cell_type": "code",
   "execution_count": 32,
   "metadata": {
    "execution": {
     "iopub.execute_input": "2021-01-04T08:32:07.066629Z",
     "iopub.status.busy": "2021-01-04T08:32:07.060380Z",
     "iopub.status.idle": "2021-01-04T08:32:07.180046Z",
     "shell.execute_reply": "2021-01-04T08:32:07.180564Z"
    },
    "papermill": {
     "duration": 0.186999,
     "end_time": "2021-01-04T08:32:07.180702",
     "exception": false,
     "start_time": "2021-01-04T08:32:06.993703",
     "status": "completed"
    },
    "tags": []
   },
   "outputs": [
    {
     "data": {
      "image/png": "[encoded data removed]",
      "text/plain": [
       "<Figure size 432x288 with 1 Axes>"
      ]
     },
     "metadata": {
      "needs_background": "light"
     },
     "output_type": "display_data"
    }
   ],
   "source": [
    "sns.boxplot('Age', data = train_data)\n",
    "plt.show()\n",
    "# this shows that there were very few people more than 65 years old in training data"
   ]
  },
  {
   "cell_type": "code",
   "execution_count": 33,
   "metadata": {
    "execution": {
     "iopub.execute_input": "2021-01-04T08:32:07.307571Z",
     "iopub.status.busy": "2021-01-04T08:32:07.306807Z",
     "iopub.status.idle": "2021-01-04T08:32:08.339614Z",
     "shell.execute_reply": "2021-01-04T08:32:08.339113Z"
    },
    "papermill": {
     "duration": 1.099149,
     "end_time": "2021-01-04T08:32:08.339721",
     "exception": false,
     "start_time": "2021-01-04T08:32:07.240572",
     "status": "completed"
    },
    "tags": []
   },
   "outputs": [
    {
     "name": "stderr",
     "output_type": "stream",
     "text": [
      "/opt/conda/lib/python3.7/site-packages/seaborn/axisgrid.py:243: UserWarning: The `size` parameter has been renamed to `height`; please update your code.\n",
      "  warnings.warn(msg, UserWarning)\n",
      "/opt/conda/lib/python3.7/site-packages/seaborn/axisgrid.py:728: UserWarning: Using the barplot function without specifying `order` is likely to produce an incorrect plot.\n",
      "  warnings.warn(warning)\n"
     ]
    },
    {
     "data": {
      "image/png": "[encoded data removed]",
      "text/plain": [
       "<Figure size 514.88x475.2 with 6 Axes>"
      ]
     },
     "metadata": {
      "needs_background": "light"
     },
     "output_type": "display_data"
    }
   ],
   "source": [
    "grid = sns.FacetGrid(train_data, row='Embarked', col='Survived', size=2.2, aspect=1.6)\n",
    "grid.map(sns.barplot, 'Sex', 'Fare', alpha=.5, ci=None , color = 'yellow')\n",
    "grid.add_legend()\n",
    "plt.show()"
   ]
  },
  {
   "cell_type": "code",
   "execution_count": 34,
   "metadata": {
    "execution": {
     "iopub.execute_input": "2021-01-04T08:32:08.474091Z",
     "iopub.status.busy": "2021-01-04T08:32:08.471382Z",
     "iopub.status.idle": "2021-01-04T08:32:08.687826Z",
     "shell.execute_reply": "2021-01-04T08:32:08.688302Z"
    },
    "papermill": {
     "duration": 0.28924,
     "end_time": "2021-01-04T08:32:08.688429",
     "exception": false,
     "start_time": "2021-01-04T08:32:08.399189",
     "status": "completed"
    },
    "tags": []
   },
   "outputs": [
    {
     "data": {
      "image/png": "[encoded data removed]",
      "text/plain": [
       "<Figure size 720x504 with 2 Axes>"
      ]
     },
     "metadata": {
      "needs_background": "light"
     },
     "output_type": "display_data"
    }
   ],
   "source": [
    "## let's see the correlation between our data\n",
    "plt.figure(figsize = (10,7))\n",
    "corr = train_data.corr()\n",
    "sns.heatmap(corr)\n",
    "plt.show()\n",
    "# here we can see correlation between sibsp and parch columns"
   ]
  },
  {
   "cell_type": "markdown",
   "metadata": {
    "papermill": {
     "duration": 0.059904,
     "end_time": "2021-01-04T08:32:08.811437",
     "exception": false,
     "start_time": "2021-01-04T08:32:08.751533",
     "status": "completed"
    },
    "tags": []
   },
   "source": [
    "# Data Analysis"
   ]
  },
  {
   "cell_type": "code",
   "execution_count": 35,
   "metadata": {
    "execution": {
     "iopub.execute_input": "2021-01-04T08:32:08.933555Z",
     "iopub.status.busy": "2021-01-04T08:32:08.932623Z",
     "iopub.status.idle": "2021-01-04T08:32:08.943571Z",
     "shell.execute_reply": "2021-01-04T08:32:08.943078Z"
    },
    "papermill": {
     "duration": 0.074787,
     "end_time": "2021-01-04T08:32:08.943666",
     "exception": false,
     "start_time": "2021-01-04T08:32:08.868879",
     "status": "completed"
    },
    "tags": []
   },
   "outputs": [
    {
     "data": {
      "text/plain": [
       "Sex     Survived\n",
       "female  0           25.796178\n",
       "        1           74.203822\n",
       "male    0           81.109185\n",
       "        1           18.890815\n",
       "Name: Survived, dtype: float64"
      ]
     },
     "execution_count": 35,
     "metadata": {},
     "output_type": "execute_result"
    }
   ],
   "source": [
    "(train_data.groupby(['Sex','Survived']).Survived.count() * 100) / train_data.groupby('Sex').Survived.count()\n",
    "# this shows that female have around 74% chance of survival while male have around 81% chance of death"
   ]
  },
  {
   "cell_type": "code",
   "execution_count": 36,
   "metadata": {
    "execution": {
     "iopub.execute_input": "2021-01-04T08:32:09.067767Z",
     "iopub.status.busy": "2021-01-04T08:32:09.066111Z",
     "iopub.status.idle": "2021-01-04T08:32:09.075486Z",
     "shell.execute_reply": "2021-01-04T08:32:09.074990Z"
    },
    "papermill": {
     "duration": 0.074113,
     "end_time": "2021-01-04T08:32:09.075579",
     "exception": false,
     "start_time": "2021-01-04T08:32:09.001466",
     "status": "completed"
    },
    "tags": []
   },
   "outputs": [
    {
     "data": {
      "text/plain": [
       "Pclass  Survived\n",
       "1       0           37.037037\n",
       "        1           62.962963\n",
       "2       0           52.717391\n",
       "        1           47.282609\n",
       "3       0           75.763747\n",
       "        1           24.236253\n",
       "Name: Survived, dtype: float64"
      ]
     },
     "execution_count": 36,
     "metadata": {},
     "output_type": "execute_result"
    }
   ],
   "source": [
    "(train_data.groupby(['Pclass','Survived']).Survived.count() * 100) / train_data.groupby('Pclass').Survived.count()\n",
    "# this shows that people belonging to third class are likely to die while people in class one are likely to survive"
   ]
  },
  {
   "cell_type": "code",
   "execution_count": 37,
   "metadata": {
    "execution": {
     "iopub.execute_input": "2021-01-04T08:32:09.199184Z",
     "iopub.status.busy": "2021-01-04T08:32:09.198275Z",
     "iopub.status.idle": "2021-01-04T08:32:09.207494Z",
     "shell.execute_reply": "2021-01-04T08:32:09.206906Z"
    },
    "papermill": {
     "duration": 0.073556,
     "end_time": "2021-01-04T08:32:09.207596",
     "exception": false,
     "start_time": "2021-01-04T08:32:09.134040",
     "status": "completed"
    },
    "tags": []
   },
   "outputs": [
    {
     "data": {
      "text/plain": [
       "Embarked  Survived\n",
       "C         0           44.642857\n",
       "          1           55.357143\n",
       "Q         0           61.038961\n",
       "          1           38.961039\n",
       "S         0           66.304348\n",
       "          1           33.695652\n",
       "Name: Survived, dtype: float64"
      ]
     },
     "execution_count": 37,
     "metadata": {},
     "output_type": "execute_result"
    }
   ],
   "source": [
    "(train_data.groupby(['Embarked','Survived']).Survived.count() * 100) / train_data.groupby('Embarked').Survived.count()\n",
    "# this shows that people who embarked from Southampton are likely to die\n"
   ]
  },
  {
   "cell_type": "code",
   "execution_count": 38,
   "metadata": {
    "execution": {
     "iopub.execute_input": "2021-01-04T08:32:09.335612Z",
     "iopub.status.busy": "2021-01-04T08:32:09.334594Z",
     "iopub.status.idle": "2021-01-04T08:32:09.341837Z",
     "shell.execute_reply": "2021-01-04T08:32:09.341334Z"
    },
    "papermill": {
     "duration": 0.073865,
     "end_time": "2021-01-04T08:32:09.341939",
     "exception": false,
     "start_time": "2021-01-04T08:32:09.268074",
     "status": "completed"
    },
    "tags": []
   },
   "outputs": [
    {
     "data": {
      "text/plain": [
       "Survived\n",
       "0    30.626179\n",
       "1    28.343690\n",
       "Name: Age, dtype: float64"
      ]
     },
     "execution_count": 38,
     "metadata": {},
     "output_type": "execute_result"
    }
   ],
   "source": [
    "train_data.groupby(by=['Survived']).mean()[\"Age\"]\n",
    "# this show that average age of people who survived was around 28 years old\n"
   ]
  },
  {
   "cell_type": "code",
   "execution_count": 39,
   "metadata": {
    "execution": {
     "iopub.execute_input": "2021-01-04T08:32:09.471801Z",
     "iopub.status.busy": "2021-01-04T08:32:09.470924Z",
     "iopub.status.idle": "2021-01-04T08:32:09.474033Z",
     "shell.execute_reply": "2021-01-04T08:32:09.473513Z"
    },
    "papermill": {
     "duration": 0.072701,
     "end_time": "2021-01-04T08:32:09.474141",
     "exception": false,
     "start_time": "2021-01-04T08:32:09.401440",
     "status": "completed"
    },
    "tags": []
   },
   "outputs": [],
   "source": [
    "# let's take Title of our train and test data\n",
    "combined_data = [train_data, test_data]\n",
    "for data in combined_data:\n",
    "     data['Title'] = data['Name'].apply(lambda x:x.split(',')[1].split('.')[0].strip())  \n",
    "\n"
   ]
  },
  {
   "cell_type": "code",
   "execution_count": 40,
   "metadata": {
    "execution": {
     "iopub.execute_input": "2021-01-04T08:32:09.603622Z",
     "iopub.status.busy": "2021-01-04T08:32:09.602619Z",
     "iopub.status.idle": "2021-01-04T08:32:09.606290Z",
     "shell.execute_reply": "2021-01-04T08:32:09.606793Z"
    },
    "papermill": {
     "duration": 0.072493,
     "end_time": "2021-01-04T08:32:09.606921",
     "exception": false,
     "start_time": "2021-01-04T08:32:09.534428",
     "status": "completed"
    },
    "tags": []
   },
   "outputs": [
    {
     "data": {
      "text/plain": [
       "Mr              517\n",
       "Miss            182\n",
       "Mrs             125\n",
       "Master           40\n",
       "Dr                7\n",
       "Rev               6\n",
       "Major             2\n",
       "Mlle              2\n",
       "Col               2\n",
       "Jonkheer          1\n",
       "Don               1\n",
       "Sir               1\n",
       "the Countess      1\n",
       "Mme               1\n",
       "Ms                1\n",
       "Lady              1\n",
       "Capt              1\n",
       "Name: Title, dtype: int64"
      ]
     },
     "execution_count": 40,
     "metadata": {},
     "output_type": "execute_result"
    }
   ],
   "source": [
    "train_data.Title.value_counts()"
   ]
  },
  {
   "cell_type": "code",
   "execution_count": 41,
   "metadata": {
    "execution": {
     "iopub.execute_input": "2021-01-04T08:32:09.735993Z",
     "iopub.status.busy": "2021-01-04T08:32:09.734924Z",
     "iopub.status.idle": "2021-01-04T08:32:10.335362Z",
     "shell.execute_reply": "2021-01-04T08:32:10.335873Z"
    },
    "papermill": {
     "duration": 0.667773,
     "end_time": "2021-01-04T08:32:10.336007",
     "exception": false,
     "start_time": "2021-01-04T08:32:09.668234",
     "status": "completed"
    },
    "tags": []
   },
   "outputs": [
    {
     "data": {
      "text/plain": [
       "<matplotlib.axes._subplots.AxesSubplot at 0x7f90fdd28990>"
      ]
     },
     "execution_count": 41,
     "metadata": {},
     "output_type": "execute_result"
    },
    {
     "data": {
      "image/png": "[encoded data removed]",
      "text/plain": [
       "<Figure size 1080x432 with 1 Axes>"
      ]
     },
     "metadata": {
      "needs_background": "light"
     },
     "output_type": "display_data"
    }
   ],
   "source": [
    "# let's see the survival rate for each title \n",
    "plt.figure(figsize = (15,6))\n",
    "sns.barplot(x='Title',y='Survived',data = train_data) #visualizing the titles  "
   ]
  },
  {
   "cell_type": "code",
   "execution_count": 42,
   "metadata": {
    "execution": {
     "iopub.execute_input": "2021-01-04T08:32:10.474410Z",
     "iopub.status.busy": "2021-01-04T08:32:10.473695Z",
     "iopub.status.idle": "2021-01-04T08:32:10.483280Z",
     "shell.execute_reply": "2021-01-04T08:32:10.482804Z"
    },
    "papermill": {
     "duration": 0.08151,
     "end_time": "2021-01-04T08:32:10.483398",
     "exception": false,
     "start_time": "2021-01-04T08:32:10.401888",
     "status": "completed"
    },
    "tags": []
   },
   "outputs": [
    {
     "data": {
      "text/plain": [
       "Title         Survived\n",
       "Capt          0             1\n",
       "Col           0             1\n",
       "              1             1\n",
       "Don           0             1\n",
       "Dr            0             4\n",
       "              1             3\n",
       "Jonkheer      0             1\n",
       "Lady          1             1\n",
       "Major         0             1\n",
       "              1             1\n",
       "Master        1            23\n",
       "              0            17\n",
       "Miss          1           127\n",
       "              0            55\n",
       "Mlle          1             2\n",
       "Mme           1             1\n",
       "Mr            0           436\n",
       "              1            81\n",
       "Mrs           1            99\n",
       "              0            26\n",
       "Ms            1             1\n",
       "Rev           0             6\n",
       "Sir           1             1\n",
       "the Countess  1             1\n",
       "Name: Survived, dtype: int64"
      ]
     },
     "execution_count": 42,
     "metadata": {},
     "output_type": "execute_result"
    }
   ],
   "source": [
    "train_data.groupby('Title').Survived.value_counts()"
   ]
  },
  {
   "cell_type": "code",
   "execution_count": 43,
   "metadata": {
    "execution": {
     "iopub.execute_input": "2021-01-04T08:32:10.626539Z",
     "iopub.status.busy": "2021-01-04T08:32:10.625559Z",
     "iopub.status.idle": "2021-01-04T08:32:10.634773Z",
     "shell.execute_reply": "2021-01-04T08:32:10.634200Z"
    },
    "papermill": {
     "duration": 0.083862,
     "end_time": "2021-01-04T08:32:10.634894",
     "exception": false,
     "start_time": "2021-01-04T08:32:10.551032",
     "status": "completed"
    },
    "tags": []
   },
   "outputs": [
    {
     "data": {
      "text/plain": [
       "Title         Survived\n",
       "Capt          0           100.0\n",
       "Col           0            50.0\n",
       "              1            50.0\n",
       "Don           0           100.0\n",
       "Dr            0            57.0\n",
       "              1            43.0\n",
       "Jonkheer      0           100.0\n",
       "Lady          1           100.0\n",
       "Major         0            50.0\n",
       "              1            50.0\n",
       "Master        1            57.0\n",
       "              0            42.0\n",
       "Miss          1            70.0\n",
       "              0            30.0\n",
       "Mlle          1           100.0\n",
       "Mme           1           100.0\n",
       "Mr            0            84.0\n",
       "              1            16.0\n",
       "Mrs           1            79.0\n",
       "              0            21.0\n",
       "Ms            1           100.0\n",
       "Rev           0           100.0\n",
       "Sir           1           100.0\n",
       "the Countess  1           100.0\n",
       "Name: Survived, dtype: float64"
      ]
     },
     "execution_count": 43,
     "metadata": {},
     "output_type": "execute_result"
    }
   ],
   "source": [
    "np.round(train_data.groupby(\"Title\").Survived.value_counts(normalize = True) * 100, 0)"
   ]
  },
  {
   "cell_type": "markdown",
   "metadata": {
    "papermill": {
     "duration": 0.064204,
     "end_time": "2021-01-04T08:32:10.764626",
     "exception": false,
     "start_time": "2021-01-04T08:32:10.700422",
     "status": "completed"
    },
    "tags": []
   },
   "source": [
    "## Thanks for your visit\n",
    "# Any suggestion is really appreciated and feel free to comment"
   ]
  }
 ],
 "metadata": {
  "kernelspec": {
   "display_name": "Python 3",
   "language": "python",
   "name": "python3"
  },
  "language_info": {
   "codemirror_mode": {
    "name": "ipython",
    "version": 3
   },
   "file_extension": ".py",
   "mimetype": "text/x-python",
   "name": "python",
   "nbconvert_exporter": "python",
   "pygments_lexer": "ipython3",
   "version": "3.7.6"
  },
  "papermill": {
   "duration": 17.533945,
   "end_time": "2021-01-04T08:32:10.933498",
   "environment_variables": {},
   "exception": null,
   "input_path": "__notebook__.ipynb",
   "output_path": "__notebook__.ipynb",
   "parameters": {},
   "start_time": "2021-01-04T08:31:53.399553",
   "version": "2.1.0"
  }
 },
 "nbformat": 4,
 "nbformat_minor": 4
}
